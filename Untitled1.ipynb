{
 "cells": [
  {
   "cell_type": "markdown",
   "id": "3d5cab19-cdca-4012-9a81-afdb9466a829",
   "metadata": {},
   "source": [
    "## question 1"
   ]
  },
  {
   "cell_type": "code",
   "execution_count": 1,
   "id": "acee4c58-10a0-4a04-b5a3-0878415dbf77",
   "metadata": {},
   "outputs": [
    {
     "name": "stdout",
     "output_type": "stream",
     "text": [
      "10\n",
      "9\n",
      "8\n",
      "7\n",
      "6\n",
      "5\n",
      "4\n",
      "3\n",
      "2\n",
      "1\n",
      "loop complete\n"
     ]
    }
   ],
   "source": [
    "num=10\n",
    "while num >=1:\n",
    "    print(num)\n",
    "    num -=1\n",
    "print(\"loop complete\")"
   ]
  },
  {
   "cell_type": "markdown",
   "id": "922222d3-ee49-4588-a418-f04e5f132e47",
   "metadata": {},
   "source": [
    "## question 2"
   ]
  },
  {
   "cell_type": "code",
   "execution_count": 2,
   "id": "aa19dcde-e3d3-4db5-99a8-20f8e6478bd4",
   "metadata": {},
   "outputs": [
    {
     "name": "stdout",
     "output_type": "stream",
     "text": [
      "2\n",
      "4\n",
      "6\n",
      "8\n",
      "10\n",
      "12\n",
      "14\n",
      "16\n",
      "18\n",
      "20\n"
     ]
    }
   ],
   "source": [
    "num =2\n",
    "while num <= 20:\n",
    "    print(num)\n",
    "    num+= 2"
   ]
  },
  {
   "cell_type": "markdown",
   "id": "0a5b5329-6962-4c85-a074-24ef30122657",
   "metadata": {},
   "source": [
    "## Question 3"
   ]
  },
  {
   "cell_type": "code",
   "execution_count": null,
   "id": "233f27e7-7d95-4ed7-8b5f-b8b224834fb2",
   "metadata": {},
   "outputs": [],
   "source": [
    "n = int(input(\"Enter a number: \"))\n",
    "i = 1\n",
    "total = 0\n",
    "while i <= n:\n",
    "    total +=i\n",
    "    i +=1\n",
    "print(\"sum:\", total)\n",
    "\n"
   ]
  },
  {
   "cell_type": "markdown",
   "id": "189c5f4e-151f-4971-8634-28847944b394",
   "metadata": {},
   "source": [
    "## Question 4"
   ]
  },
  {
   "cell_type": "code",
   "execution_count": null,
   "id": "62cd61a8-0db5-4e7b-bde2-886e138734dd",
   "metadata": {},
   "outputs": [],
   "source": [
    "n =int(input(\"please enter a positive number:  \"))\n",
    "while n>0:\n",
    "    print(\"Thank You!\")"
   ]
  },
  {
   "cell_type": "markdown",
   "id": "54b4972d-af87-45ac-9505-b35994ca459b",
   "metadata": {},
   "source": [
    "## Question 5"
   ]
  },
  {
   "cell_type": "code",
   "execution_count": 1,
   "id": "a2aa37af-10f0-4e62-b4fe-d0183bab0dbc",
   "metadata": {},
   "outputs": [
    {
     "name": "stdout",
     "output_type": "stream",
     "text": [
      "D\n",
      "a\n",
      "t\n",
      "a\n"
     ]
    }
   ],
   "source": [
    "s = \"Data\"\n",
    "index = 0\n",
    "while index < len(s):\n",
    "    print(s[index])\n",
    "    index += 1"
   ]
  },
  {
   "cell_type": "code",
   "execution_count": 2,
   "id": "c13af716-9d6d-4bb8-a70e-22d9a4165faa",
   "metadata": {},
   "outputs": [
    {
     "ename": "SyntaxError",
     "evalue": "invalid syntax (839508366.py, line 1)",
     "output_type": "error",
     "traceback": [
      "\u001b[1;36m  Cell \u001b[1;32mIn[2], line 1\u001b[1;36m\u001b[0m\n\u001b[1;33m    correct_ password = \"analytics123\"\u001b[0m\n\u001b[1;37m             ^\u001b[0m\n\u001b[1;31mSyntaxError\u001b[0m\u001b[1;31m:\u001b[0m invalid syntax\n"
     ]
    }
   ],
   "source": [
    "correct_ password = \"analytics123\"\n",
    "while True:\n",
    "    password = input(\"Enter password:  \")\n",
    "    if password == correct_password:\n",
    "        print(\"Acess granted.\")\n",
    "        break"
   ]
  },
  {
   "cell_type": "code",
   "execution_count": null,
   "id": "03f3c041-1362-4c7c-b25e-c54423c41c98",
   "metadata": {},
   "outputs": [],
   "source": [
    "secret = 7\n",
    "while True:\n",
    "    guess =int(input(\"Guess the number"
   ]
  }
 ],
 "metadata": {
  "kernelspec": {
   "display_name": "Python 3 (ipykernel)",
   "language": "python",
   "name": "python3"
  },
  "language_info": {
   "codemirror_mode": {
    "name": "ipython",
    "version": 3
   },
   "file_extension": ".py",
   "mimetype": "text/x-python",
   "name": "python",
   "nbconvert_exporter": "python",
   "pygments_lexer": "ipython3",
   "version": "3.12.4"
  }
 },
 "nbformat": 4,
 "nbformat_minor": 5
}
